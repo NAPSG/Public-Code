{
 "cells": [
  {
   "cell_type": "markdown",
   "metadata": {},
   "source": [
    "## Archive Specified Layers to File Geodatabase\n"
   ]
  },
  {
   "cell_type": "markdown",
   "metadata": {},
   "source": [
    "This script archives data by searching for specified layers and exporting each layer as a file geodatabase on ArcGIS Online to be stored, downloaded, or published.\n",
    "To start running the script, you can click Run at the top to run the selected cell. Running a header cell (like this) will just move on to the next cell. A number will appear next to the cell when that cell is finished running, showing the order the cells have been ran in. You can also run them all in order by clicking \"Cell\" in the menu bar at the top and then click, \"Run All\"."
   ]
  },
  {
   "cell_type": "code",
   "execution_count": null,
   "metadata": {},
   "outputs": [],
   "source": [
    "from arcgis.gis import GIS\n",
    "import datetime as dt\n",
    "import time\n",
    "gis = GIS(\"home\")"
   ]
  },
  {
   "cell_type": "markdown",
   "metadata": {},
   "source": [
    "Specify the name of the folder to send your achived data in the first line\n",
    "Leaving this blank (with the quotes in agol_folder=\" \" format) will make the data backup to the root folder in your ArcGIS Online."
   ]
  },
  {
   "cell_type": "code",
   "execution_count": null,
   "metadata": {},
   "outputs": [],
   "source": [
    "agol_folder = \"Archive\""
   ]
  },
  {
   "cell_type": "markdown",
   "metadata": {},
   "source": [
    "Copy and Paste the layers' Item ID between the \"\" as seen below. Delete the \"#\" before any line you need to open.\n",
    "Feel free to put as many lines as you need. You are not restricted to 5 items. As long as you keep the same ' item# = gis.content.get(\"<ITEM ID>\") ' format as the other lines, you can add as many items as you want.\n",
    "\n",
    "Then add the items to the layer list in the last line. This list is what will tell the script below what export."
   ]
  },
  {
   "cell_type": "code",
   "execution_count": null,
   "metadata": {
    "scrolled": true
   },
   "outputs": [],
   "source": [
    "item1 = gis.content.get(\"e335387dd97e403f83e07cbddf55b7d7\")\n",
    "item2 = gis.content.get(\"b6ad58297c524e049af1df5a137dc49c\")\n",
    "item3 = gis.content.get(\"f74fb2be98a641299bac95984f1f9464\")\n",
    "#item4 = gis.content.get(\"\")\n",
    "#item5 = gis.content.get(\"\")\n",
    "\n",
    "# Make sure to add all open lines above to the list below. For example if you open items 1-3, the list should look like : layers=[item1, item2, item3]\n",
    "layers = [item1, item2, item3]"
   ]
  },
  {
   "cell_type": "code",
   "execution_count": null,
   "metadata": {},
   "outputs": [],
   "source": [
    "print(str(len(layers)) + \" items will be backed up. See the list below:\")\n",
    "layers"
   ]
  },
  {
   "cell_type": "markdown",
   "metadata": {},
   "source": [
    "The naming scheme this script exports the data as is \"20211123 13:00 UTC LayerTitle\".\n",
    "You do not need to need to change anything here."
   ]
  },
  {
   "cell_type": "code",
   "execution_count": null,
   "metadata": {},
   "outputs": [],
   "source": [
    "def download_as_fgdb(item_list):\n",
    "    for item in item_list:\n",
    "        try:\n",
    "            if 'View Service' in item.typeKeywords:\n",
    "                print(item.title + \" is view, not downloading\")\n",
    "            else: \n",
    "                print(\"Downloading \" + item.title)\n",
    "                # This line figures out today's date in Year-Month-Day format, then puts the date at the end of the export data name\n",
    "                version=time.strftime('%Y%m%d %H:%M')\n",
    "                result = item.export(version + \" UTC \" + item.title, \"File Geodatabase\")\n",
    "                print(\"Successfully downloaded \" + item.title)\n",
    "                result.move(folder=agol_folder)\n",
    "        except Exception as e:\n",
    "            print(\"An error occurred downloading \" + item.title)\n",
    "            print(e)\n",
    "    print(\"The function has completed\")\n",
    "\n",
    "download_as_fgdb(layers)"
   ]
  },
  {
   "cell_type": "markdown",
   "metadata": {},
   "source": [
    "Test your script and make sure it has the desired effect. Once you are happy with your script, you may have the ability to schedule the script to run automatically. Go to the top toolbar and click Tasks. Then click Create Task. Name your task and click Next and choose how often you want your script to run. For more information on creating tasks, see the <a href=\"https://doc.arcgis.com/en/arcgis-online/create-maps/prepare-a-notebook-for-automated-execution.htm\">Schedule a notebook Task Esri tech document.</a>"
   ]
  }
 ],
 "metadata": {
  "esriNotebookRuntime": {
   "notebookRuntimeName": "ArcGIS Notebook Python 3 Standard",
   "notebookRuntimeVersion": "5.0"
  },
  "kernelspec": {
   "display_name": "Python 3",
   "language": "python",
   "name": "python3"
  },
  "language_info": {
   "codemirror_mode": {
    "name": "ipython",
    "version": 3
   },
   "file_extension": ".py",
   "mimetype": "text/x-python",
   "name": "python",
   "nbconvert_exporter": "python",
   "pygments_lexer": "ipython3",
   "version": "3.6.10"
  }
 },
 "nbformat": 4,
 "nbformat_minor": 2
}
