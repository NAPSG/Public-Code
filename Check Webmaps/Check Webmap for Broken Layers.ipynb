{
 "cells": [
  {
   "cell_type": "markdown",
   "metadata": {},
   "source": [
    "# Check WebMaps for Broken Layers\n",
    "\n",
    "This script is designed to check your web maps and report if it has found any broken or unreachable layers. This script posts a status message on a Microsoft Teams channel with a list of the broken layers.\n",
    "\n",
    "Before running this script, you must create a \"Secrets\" CSV and place it in ArcGIS Online to hold the API URL for the webhook connecting to Microsoft Teams. Use the <a href=\"https://github.com/NAPSG/Public-Code-Beta/blob/main/Check%20Webmaps/ReadMe.md\">ReadMe document in the Github folder</a> to create and update the CSV.\n",
    "\n",
    "This script is based on an Esri Sample Notebook for the same purpose but has been modified to post a message on Microsoft Teams instead of sending an email. <a href=\"https://napsg.maps.arcgis.com/home/notebook/notebook.html?id=f3923d568a1a489594391f7cfb9a3642\">The original script can be found here.</a>"
   ]
  },
  {
   "cell_type": "code",
   "execution_count": null,
   "metadata": {},
   "outputs": [],
   "source": [
    "import csv\n",
    "import smtplib\n",
    "import requests\n",
    "import logging\n",
    "log = logging.getLogger()\n",
    "\n",
    "from arcgis.gis import GIS\n",
    "from arcgis.mapping import WebMap\n",
    "\n",
    "gis = GIS(\"home\")"
   ]
  },
  {
   "cell_type": "markdown",
   "metadata": {},
   "source": [
    "## Notifications\n",
    "\n",
    "<b>Change line 1 - </b>Change the SECRET_CSV_ITEM_ID to the itemID of your secrets CSV that holds your webhook URL."
   ]
  },
  {
   "cell_type": "code",
   "execution_count": null,
   "metadata": {},
   "outputs": [],
   "source": [
    "SECRET_CSV_ITEM_ID = ''\n",
    "\n",
    "def get_secrets(gis=gis,\n",
    "                secret_csv_item_id = SECRET_CSV_ITEM_ID):\n",
    "    \"\"\"Returns a dict of { secret_key : secret_value } from the \n",
    "    secrets.csv item. See the 'Notifications' notebook in the \n",
    "    examples gallery for more information.\n",
    "    \"\"\"\n",
    "    try:\n",
    "        item = gis.content.get(secret_csv_item_id)\n",
    "        with open(item.download(), 'r') as local_item_file:\n",
    "            reader = csv.DictReader(local_item_file)\n",
    "            return { rows['secret_key'] : rows['secret_value'] \\\n",
    "                     for rows in reader }\n",
    "    except Exception:\n",
    "        return {}"
   ]
  },
  {
   "cell_type": "markdown",
   "metadata": {},
   "source": [
    "<b>Change line 2</b> - within the [ ] where it says <i>Teams_Webhook</i>, input the name of your webhook from the Secrets CSV. This will grab the correct webhook URL to be used\n",
    "(Be sure to keep it in quotes and within the brackets)."
   ]
  },
  {
   "cell_type": "code",
   "execution_count": null,
   "metadata": {},
   "outputs": [],
   "source": [
    "def notify_channel_teams(message):\n",
    "    webhook_url = get_secrets()['Teams_Webhook']\n",
    "    response = requests.post(webhook_url, json={\"text\" : message})\n",
    "    \n",
    "    # Check that the response looks OK; warn the user if it doesn't\n",
    "    if response.ok:\n",
    "        return True\n",
    "    else:\n",
    "        log.warning(\"Teams POST returned a bad response:\")\n",
    "        log.warning(response.text)\n",
    "        return Fal"
   ]
  },
  {
   "cell_type": "markdown",
   "metadata": {},
   "source": [
    "## Configure Behavior\n",
    "\n",
    "Below are three options for checking the web maps. See the comments above each section for details.\n",
    "\n",
    "<p style=\"color:red;\"><b>At least one of these must be made True or the script will have an error.</b></p> You can make several options true. For example, if you want to check ever webmap in a few groups and a few specific webmaps, you can make Groups as True, define the groups, and keep the specific maps True and define the webmaps."
   ]
  },
  {
   "cell_type": "code",
   "execution_count": null,
   "metadata": {},
   "outputs": [],
   "source": [
    "# Set to `True` you would like to check ALL webmaps in your organization.\n",
    "CHECK_ALL_ITEMS = False\n",
    "\n",
    "# If `CHECK_THESE_GROUPS` is `True`, the script will check all items in these groups. Un-comment the secoond line here and specify the groups. You can input as many as you want.\n",
    "CHECK_THESE_GROUPS = False\n",
    "#CHECK_THESE_GROUPS = ['group_name_1', 'group_name_2']\n",
    "\n",
    "# This is to specify maps to check. Place the ITEM ID of the webmaps in the quotes, then add the items to the list below.\n",
    "CHECK_THSES_MAPS = True\n",
    "item1 = gis.content.get(\"4972d96596c4497face054ac86a801c0\")\n",
    "item2 = gis.content.get(\"bf7f6d07e6364d19aadd3f5dbc152cd4\")\n",
    "#item3 = gis.content.get(\"\")\n",
    "#item4 = gis.content.get(\"\")\n",
    "#item5 = gis.content.get(\"\")\n",
    "\n",
    "# Add all open lines above to this list. For example, if you have items 1-3 filled, the list should look like: webmaps = [item1, item2, item3]\n",
    "webmaps = [item1, item2]"
   ]
  },
  {
   "cell_type": "markdown",
   "metadata": {},
   "source": [
    "## WebMap Parsing Logic\n",
    "\n",
    "Checks to see if the layers are reachable.\n",
    "\n",
    "You will not have to edit any of these. The notes below are for information on what they are doing."
   ]
  },
  {
   "cell_type": "code",
   "execution_count": null,
   "metadata": {},
   "outputs": [],
   "source": [
    "def is_url_reachable(url):\n",
    "    \"\"\"Returns a bool representing if the URL is reachable\"\"\"\n",
    "    try:\n",
    "        response = requests.get(url)\n",
    "        return response.ok\n",
    "    except Exception as e:\n",
    "        return False"
   ]
  },
  {
   "cell_type": "markdown",
   "metadata": {},
   "source": [
    "This function will test the URLs of all operational layers and basemap layers of a web map. This function will return a list of reachable and unreachable layers."
   ]
  },
  {
   "cell_type": "code",
   "execution_count": null,
   "metadata": {},
   "outputs": [],
   "source": [
    "def test_urls_in_webmap(webmap_item):\n",
    "    \"\"\"Takes in an `Item` class instance of a Web Map Item.\n",
    "    Tests if all operational layers and basemap layers are\n",
    "    reachable. Returns a tuple of (reachable, unreachable), \n",
    "    with each tuple entry being a list of layers/basemaps JSON.\n",
    "    \"\"\"\n",
    "    reachable = []\n",
    "    unreachable = []\n",
    "    wm = WebMap(webmap_item)\n",
    "\n",
    "    # Concatanate all operational layers and basemap layers to 1 list\n",
    "    all_layers = list(wm.layers)\n",
    "    if hasattr(wm.basemap, 'baseMapLayers'):\n",
    "        all_layers += wm.basemap.baseMapLayers\n",
    "\n",
    "    # Test all of the layers, return the results\n",
    "    for layer in [layer for layer in all_layers \\\n",
    "                  if hasattr(layer, 'url')]:\n",
    "        if is_url_reachable(layer.url):\n",
    "            log.debug(f\"    [✓] url {layer.url} reachable\")\n",
    "            reachable.append(layer)\n",
    "        else:\n",
    "            log.debug(f\"    [X] url {layer.url} NOT reachable\")\n",
    "            unreachable.append(layer)\n",
    "    return (reachable, unreachable)"
   ]
  },
  {
   "cell_type": "markdown",
   "metadata": {},
   "source": [
    "This function assembles the message to be posted in Teams. This version of the script will only list unreachable layers in the final post."
   ]
  },
  {
   "cell_type": "code",
   "execution_count": null,
   "metadata": {},
   "outputs": [],
   "source": [
    "def assemble_message(webmap_item, reachable, unreachable):\n",
    "    \"\"\"Makes a human readable message with the args passed in\"\"\"\n",
    "    def _assemble_bullet_point(layer, is_reachable):\n",
    "        \"\"\"Internal function to assemble one bullet point from a layer\"\"\"\n",
    "        icon = '✅' if is_reachable else '❌'\n",
    "        return f\"* {icon} {layer.title}\"\n",
    "\n",
    "    # Assemble a string representation of both lists\n",
    "    reachable_str = \"\\n\".join(_assemble_bullet_point(layer, True) \\\n",
    "                               for layer in reachable)\n",
    "    unreachable_str = \"\\n\".join(_assemble_bullet_point(layer, False) \\\n",
    "                               for layer in unreachable)\n",
    "\n",
    "    # Asemble the message and return it\n",
    "    return f\"{webmap_item.title} contains unreachable URLs. \"\\\n",
    "           f\"You can view the webmap here: {webmap_item.homepage}\\n\"\\\n",
    "           f\"\\n\"\\\n",
    "           f\"Unreachable Layers\\n\"\\\n",
    "           f\"-------------------\\n\"\\\n",
    "           f\"{unreachable_str}\""
   ]
  },
  {
   "cell_type": "code",
   "execution_count": null,
   "metadata": {},
   "outputs": [],
   "source": [
    "def handle_unreachable(webmap_item, reachable, unreachable,\n",
    "                        gis=gis):\n",
    "    \"\"\"Called whenever we encounter a WebMap with broken URLs. Will \n",
    "    assemble an appropriate message, and send it out to the previously\n",
    "    configured emails.\n",
    "    \"\"\"\n",
    "    # Assemble the message and send it\n",
    "    message = assemble_message(webmap_item, reachable, unreachable)\n",
    "    subject = f\"WebMap '{webmap_item.id}' contains broken URLs\"\n",
    "    if notify_channel_teams(message):\n",
    "        return True\n",
    "    else:\n",
    "        log.warning(f\"Error emailing users about WebMap {webmap_item.id}.\")\n",
    "        return False"
   ]
  },
  {
   "cell_type": "code",
   "execution_count": null,
   "metadata": {},
   "outputs": [],
   "source": [
    "def get_items_to_check():\n",
    "    \"\"\"Generator function that will yield Items depending on how you\n",
    "    configured your notebook. Will either yield every item in an \n",
    "    organization, or will yield items in specific groups.\n",
    "    \"\"\"\n",
    "    if CHECK_ALL_ITEMS:\n",
    "        for user in gis.users.search():\n",
    "            for item in user.items(max_items=999999999):\n",
    "                # For the user's root folder\n",
    "                yield item\n",
    "            for folder in user.folders:\n",
    "                # For all the user's other folders\n",
    "                for item in user.items(folder, max_items=999999999):\n",
    "                    yield item\n",
    "    if CHECK_THESE_GROUPS:\n",
    "        for group_name in CHECK_THESE_GROUPS:\n",
    "            group = gis.groups.search(f\"title: {group_name}\")[0]\n",
    "            for item in group.content():\n",
    "                yield item\n",
    "                \n",
    "    if CHECK_THSES_MAPS:\n",
    "        for maps in webmaps:\n",
    "            yield maps\n",
    "    else:\n",
    "        print(\"An Error occured in the configure behavior\")"
   ]
  },
  {
   "cell_type": "markdown",
   "metadata": {},
   "source": [
    "This main function is what takes all the tools created above and makes them run in the right order."
   ]
  },
  {
   "cell_type": "code",
   "execution_count": null,
   "metadata": {},
   "outputs": [],
   "source": [
    "def main():\n",
    "    print(\"Notebook is now running, please wait...\\n-----\")\n",
    "    for item in get_items_to_check():\n",
    "        print(f\"\\rChecking item {item.id}\", end=\"\")\n",
    "        if item.type == \"Web Map\":\n",
    "            reachable, unreachable = test_urls_in_webmap(item)\n",
    "            if unreachable:\n",
    "                print(f\"\\nWebmap {item.id} unreachable. Notifying...\")\n",
    "                handle_unreachable(item, reachable, unreachable)\n",
    "    print(\"-----\\nNotebook completed running.\")"
   ]
  },
  {
   "cell_type": "code",
   "execution_count": null,
   "metadata": {
    "scrolled": true
   },
   "outputs": [],
   "source": [
    "main()"
   ]
  },
  {
   "cell_type": "markdown",
   "metadata": {},
   "source": [
    "Test your script and make sure it has the desired effect. Once you are happy with your script, you may have the ability to schedule the script to run automatically. Go to the top toolbar and click Tasks. Then click Create Task. Name your task and click Next and choose how often you want your script to run. For more information on creating tasks, see the <a href=\"https://doc.arcgis.com/en/arcgis-online/create-maps/prepare-a-notebook-for-automated-execution.htm\">Schedule a notebook Task Esri tech document.</a>"
   ]
  }
 ],
 "metadata": {
  "esriNotebookRuntime": {
   "notebookRuntimeName": "ArcGIS Notebook Python 3 Standard",
   "notebookRuntimeVersion": "5.0"
  },
  "kernelspec": {
   "display_name": "Python 3",
   "language": "python",
   "name": "python3"
  },
  "language_info": {
   "codemirror_mode": {
    "name": "ipython",
    "version": 3
   },
   "file_extension": ".py",
   "mimetype": "text/x-python",
   "name": "python",
   "nbconvert_exporter": "python",
   "pygments_lexer": "ipython3",
   "version": "3.7.9"
  }
 },
 "nbformat": 4,
 "nbformat_minor": 2
}
